{
 "cells": [
  {
   "cell_type": "markdown",
   "metadata": {},
   "source": [
    "# 🔬 Exploración Interactiva del Modelo de Bohr\n",
    "\n",
    "Este notebook te permite explorar el modelo atómico de Bohr de forma interactiva.\n",
    "\n",
    "## Contenido\n",
    "1. Instalación y Setup\n",
    "2. Átomo de Hidrógeno\n",
    "3. Series Espectrales\n",
    "4. Comparación entre Átomos\n",
    "5. Visualizaciones Interactivas"
   ]
  },
  {
   "cell_type": "markdown",
   "metadata": {},
   "source": [
    "## 1. Setup"
   ]
  },
  {
   "cell_type": "code",
   "execution_count": null,
   "metadata": {},
   "outputs": [],
   "source": [
    "# Instalar la librería si no está instalada\n",
    "# !pip install bohr-atom\n",
    "\n",
    "# Importar librerías\n",
    "from bohr_atom import BohrAtom\n",
    "import matplotlib.pyplot as plt\n",
    "import numpy as np\n",
    "\n",
    "# Configurar matplotlib\n",
    "%matplotlib inline\n",
    "plt.style.use('seaborn-v0_8-darkgrid')\n",
    "plt.rcParams['figure.figsize'] = (12, 8)\n",
    "\n",
    "print(\"✅ Librerías importadas correctamente\")"
   ]
  },
  {
   "cell_type": "markdown",
   "metadata": {},
   "source": [
    "## 2. Explorar el Átomo de Hidrógeno"
   ]
  },
  {
   "cell_type": "code",
   "execution_count": null,
   "metadata": {},
   "outputs": [],
   "source": [
    "# Crear átomo de hidrógeno\n",
    "H = BohrAtom(Z=1)\n",
    "print(f\"Átomo creado: {H}\")\n",
    "\n",
    "# Tabla de niveles de energía\n",
    "print(\"\\n\" + \"=\"*60)\n",
    "print(\"NIVELES DE ENERGÍA DEL HIDRÓGENO\")\n",
    "print(\"=\"*60)\n",
    "print(f\"{'n':>3} | {'Energía (eV)':>12} | {'Radio (Å)':>10}\")\n",
    "print(\"-\"*60)\n",
    "\n",
    "for n in range(1, 7):\n",
    "    E = H.energy_level_eV(n)\n",
    "    r = H.orbital_radius_angstrom(n)\n",
    "    print(f\"{n:>3} | {E:>12.3f} | {r:>10.3f}\")"
   ]
  },
  {
   "cell_type": "markdown",
   "metadata": {},
   "source": [
    "### Visualizar Niveles de Energía"
   ]
  },
  {
   "cell_type": "code",
   "execution_count": null,
   "metadata": {},
   "outputs": [],
   "source": [
    "# Diagrama de niveles sin transiciones\n",
    "fig = H.plot_energy_levels(n_max=6, show_transitions=False)\n",
    "plt.show()"
   ]
  },
  {
   "cell_type": "markdown",
   "metadata": {},
   "source": [
    "### Visualizar Órbitas"
   ]
  },
  {
   "cell_type": "code",
   "execution_count": null,
   "metadata": {},
   "outputs": [],
   "source": [
    "# Diagrama de órbitas\n",
    "fig = H.plot_orbits(n_max=5)\n",
    "plt.show()"
   ]
  },
  {
   "cell_type": "markdown",
   "metadata": {},
   "source": [
    "## 3. Series Espectrales"
   ]
  },
  {
   "cell_type": "markdown",
   "metadata": {},
   "source": [
    "### Serie de Lyman (UV)"
   ]
  },
  {
   "cell_type": "code",
   "execution_count": null,
   "metadata": {},
   "outputs": [],
   "source": [
    "print(\"SERIE DE LYMAN (transiciones a n=1, ultravioleta)\")\n",
    "print(\"=\"*70)\n",
    "\n",
    "lyman_transitions = []\n",
    "for n_i in range(2, 7):\n",
    "    wavelength = H.transition_wavelength_nm(n_i, 1)\n",
    "    lyman_transitions.append((n_i, 1))\n",
    "    print(f\"n={n_i} → n=1: λ = {wavelength:.2f} nm\")\n",
    "\n",
    "# Visualizar\n",
    "fig = H.plot_energy_levels(n_max=6, show_transitions=True, \n",
    "                          transitions=lyman_transitions)\n",
    "plt.show()"
   ]
  },
  {
   "cell_type": "markdown",
   "metadata": {},
   "source": [
    "### Serie de Balmer (Visible)"
   ]
  },
  {
   "cell_type": "code",
   "execution_count": null,
   "metadata": {},
   "outputs": [],
   "source": [
    "print(\"SERIE DE BALMER (transiciones a n=2, luz visible)\")\n",
    "print(\"=\"*70)\n",
    "\n",
    "balmer_names = ['H-α', 'H-β', 'H-γ', 'H-δ', 'H-ε']\n",
    "balmer_transitions = []\n",
    "\n",
    "for idx, n_i in enumerate(range(3, 8)):\n",
    "    wavelength = H.transition_wavelength_nm(n_i, 2)\n",
    "    balmer_transitions.append((n_i, 2))\n",
    "    name = balmer_names[idx] if idx < len(balmer_names) else f\"H-{idx+1}\"\n",
    "    \n",
    "    # Determinar color\n",
    "    if wavelength > 620:\n",
    "        color = \"🔴 Rojo\"\n",
    "    elif wavelength > 570:\n",
    "        color = \"🟠 Naranja\"\n",
    "    elif wavelength > 495:\n",
    "        color = \"🟢 Verde-Azul\"\n",
    "    elif wavelength > 450:\n",
    "        color = \"🔵 Azul\"\n",
    "    else:\n",
    "        color = \"🟣 Violeta\"\n",
    "    \n",
    "    print(f\"{name}: n={n_i} → n=2, λ = {wavelength:.1f} nm {color}\")\n",
    "\n",
    "# Visualizar\n",
    "fig = H.plot_energy_levels(n_max=8, show_transitions=True,\n",
    "                          transitions=balmer_transitions)\n",
    "plt.show()"
   ]
  },
  {
   "cell_type": "markdown",
   "metadata": {},
   "source": [
    "### Crear Espectro Completo"
   ]
  },
  {
   "cell_type": "code",
   "execution_count": null,
   "metadata": {},
   "outputs": [],
   "source": [
    "# Calcular todas las transiciones posibles\n",
    "fig, ax = plt.subplots(figsize=(14, 6))\n",
    "\n",
    "series = [\n",
    "    (1, range(2, 7), 'Lyman', 'purple'),\n",
    "    (2, range(3, 8), 'Balmer', 'red'),\n",
    "    (3, range(4, 9), 'Paschen', 'brown')\n",
    "]\n",
    "\n",
    "for n_f, n_range, name, color in series:\n",
    "    wavelengths = [H.transition_wavelength_nm(n_i, n_f) for n_i in n_range]\n",
    "    \n",
    "    for wl in wavelengths:\n",
    "        ax.axvline(wl, color=color, alpha=0.6, linewidth=2)\n",
    "    \n",
    "    # Etiqueta de serie\n",
    "    avg_wl = np.mean(wavelengths)\n",
    "    ax.text(avg_wl, 0.5, name, rotation=90, fontsize=12,\n",
    "           verticalalignment='center', color=color, weight='bold')\n",
    "\n",
    "# Regiones del espectro electromagnético\n",
    "ax.axvspan(10, 380, alpha=0.1, color='purple', label='UV')\n",
    "ax.axvspan(380, 750, alpha=0.1, color='gray', label='Visible')\n",
    "ax.axvspan(750, 2500, alpha=0.1, color='red', label='IR')\n",
    "\n",
    "ax.set_xlabel('Longitud de onda (nm)', fontsize=14)\n",
    "ax.set_ylabel('Intensidad', fontsize=14)\n",
    "ax.set_title('Espectro de Emisión Completo del Hidrógeno', fontsize=16, weight='bold')\n",
    "ax.set_xlim(0, 2000)\n",
    "ax.set_ylim(0, 1)\n",
    "ax.set_yticks([])\n",
    "ax.legend(fontsize=12)\n",
    "ax.grid(True, alpha=0.3)\n",
    "\n",
    "plt.tight_layout()\n",
    "plt.show()"
   ]
  },
  {
   "cell_type": "markdown",
   "metadata": {},
   "source": [
    "## 4. Comparación entre Átomos Hidrogenoides"
   ]
  },
  {
   "cell_type": "code",
   "execution_count": null,
   "metadata": {},
   "outputs": [],
   "source": [
    "# Crear diferentes átomos\n",
    "atoms = {\n",
    "    'H': BohrAtom(Z=1),\n",
    "    'He⁺': BohrAtom(Z=2),\n",
    "    'Li²⁺': BohrAtom(Z=3)\n",
    "}\n",
    "\n",
    "# Comparar energías del nivel fundamental\n",
    "print(\"\\nCOMPARACIÓN DE ENERGÍAS DEL NIVEL FUNDAMENTAL\")\n",
    "print(\"=\"*60)\n",
    "print(f\"{'Átomo':>6} | {'Z':>3} | {'E₁ (eV)':>10} | {'r₁ (Å)':>10}\")\n",
    "print(\"-\"*60)\n",
    "\n",
    "for name, atom in atoms.items():\n",
    "    E1 = atom.energy_level_eV(1)\n",
    "    r1 = atom.orbital_radius_angstrom(1)\n",
    "    print(f\"{name:>6} | {atom.Z:>3} | {E1:>10.2f} | {r1:>10.3f}\")\n",
    "\n",
    "# Gráfico comparativo\n",
    "fig, (ax1, ax2) = plt.subplots(1, 2, figsize=(14, 6))\n",
    "\n",
    "# Energías\n",
    "n_values = np.arange(1, 6)\n",
    "for name, atom in atoms.items():\n",
    "    energies = [atom.energy_level_eV(n) for n in n_values]\n",
    "    ax1.plot(n_values, energies, 'o-', label=name, linewidth=2, markersize=8)\n",
    "\n",
    "ax1.set_xlabel('Nivel cuántico n', fontsize=12)\n",
    "ax1.set_ylabel('Energía (eV)', fontsize=12)\n",
    "ax1.set_title('Niveles de Energía por Átomo', fontsize=14, weight='bold')\n",
    "ax1.legend(fontsize=12)\n",
    "ax1.grid(True, alpha=0.3)\n",
    "ax1.axhline(0, color='black', linestyle='--', alpha=0.5)\n",
    "\n",
    "# Radios\n",
    "for name, atom in atoms.items():\n",
    "    radii = [atom.orbital_radius_angstrom(n) for n in n_values]\n",
    "    ax2.plot(n_values, radii, 'o-', label=name, linewidth=2, markersize=8)\n",
    "\n",
    "ax2.set_xlabel('Nivel cuántico n', fontsize=12)\n",
    "ax2.set_ylabel('Radio orbital (Å)', fontsize=12)\n",
    "ax2.set_title('Radios Orbitales por Átomo', fontsize=14, weight='bold')\n",
    "ax2.legend(fontsize=12)\n",
    "ax2.grid(True, alpha=0.3)\n",
    "\n",
    "plt.tight_layout()\n",
    "plt.show()"
   ]
  },
  {
   "cell_type": "markdown",
   "metadata": {},
   "source": [
    "## 5. Ejercicios Interactivos"
   ]
  },
  {
   "cell_type": "markdown",
   "metadata": {},
   "source": [
    "### Ejercicio 1: Calcular una transición específica"
   ]
  },
  {
   "cell_type": "code",
   "execution_count": null,
   "metadata": {},
   "outputs": [],
   "source": [
    "# Modifica estos valores\n",
    "Z_value = 1  # Número atómico\n",
    "n_initial = 3  # Nivel inicial\n",
    "n_final = 2  # Nivel final\n",
    "\n",
    "# Cálculos\n",
    "atom = BohrAtom(Z=Z_value)\n",
    "wavelength = atom.transition_wavelength_nm(n_initial, n_final)\n",
    "frequency = atom.transition_frequency(n_initial, n_final)\n",
    "energy = abs(atom.transition_energy(n_initial, n_final) / 1.602176634e-19)\n",
    "\n",
    "print(f\"\\n📊 TRANSICIÓN: n={n_initial} → n={n_final} en átomo con Z={Z_value}\")\n",
    "print(\"=\"*60)\
